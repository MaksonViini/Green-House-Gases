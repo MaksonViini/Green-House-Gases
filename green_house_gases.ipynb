{
 "metadata": {
  "language_info": {
   "codemirror_mode": {
    "name": "ipython",
    "version": 3
   },
   "file_extension": ".py",
   "mimetype": "text/x-python",
   "name": "python",
   "nbconvert_exporter": "python",
   "pygments_lexer": "ipython3",
   "version": "3.8.6"
  },
  "orig_nbformat": 2,
  "kernelspec": {
   "name": "python386jvsc74a57bd0916dbcbb3f70747c44a77c7bcd40155683ae19c65e1c03b4aa3499c5328201f1",
   "display_name": "Python 3.8.6 64-bit"
  },
  "metadata": {
   "interpreter": {
    "hash": "916dbcbb3f70747c44a77c7bcd40155683ae19c65e1c03b4aa3499c5328201f1"
   }
  }
 },
 "nbformat": 4,
 "nbformat_minor": 2,
 "cells": [
  {
   "cell_type": "code",
   "execution_count": 6,
   "metadata": {},
   "outputs": [],
   "source": [
    "import pandas as pd \n",
    "import numpy as np \n",
    "import matplotlib.pyplot as plt \n",
    "%matplotlib inline\n",
    "from IPython.display import IFrame"
   ]
  },
  {
   "source": [
    "## Efeito Estufa"
   ],
   "cell_type": "markdown",
   "metadata": {}
  },
  {
   "source": [
    "### O **efeito estufa** é o processo pelo qual a radiação da atmosfera de um planeta aquece a superfície do planeta a uma temperatura acima do que seria sem esta atmosfera."
   ],
   "cell_type": "markdown",
   "metadata": {}
  },
  {
   "source": [
    "<img src=\"images/CandidSelfreliantAvians.webp\" width=\"750\" align=\"center\">"
   ],
   "cell_type": "markdown",
   "metadata": {}
  },
  {
   "source": [
    "Atividades humanas como a queima de combustíveis fósseis, o emprego de certos fertilizantes, o desmatamento e o grande desperdício contemporâneo de alimentos, que têm entre seus resultados a elevação nos níveis atmosféricos de gases estufa, vêm intensificando de maneira importante o efeito estufa e desestabilizando o equilíbrio energético no planeta, produzindo um fenômeno conhecido como aquecimento global."
   ],
   "cell_type": "markdown",
   "metadata": {}
  },
  {
   "source": [
    "<img src=\"images/DependableCheeryBlacklemur.webp\" width=\"750\" align=\"center\">"
   ],
   "cell_type": "markdown",
   "metadata": {}
  },
  {
   "source": [
    "Aos longo dos últimos 20 anos, os satélites da Nasa monitoraram do espaço esse imenso “ser vivo”, observando não apenas suas propriedades físicas, mas o pulso da vida em diferentes estações — as ondas de calor que se movem ao redor do planeta, o gelo marinho que se expande e recua e a vegetação que floresce e padece nos continentes. \n",
    "\n",
    "Nas regiões árticas podem ser notadas os efeitos do aquecimento global, onde o clima está aquecendo mais rápido, os impactos já são visíveis do espaço. A vegetação de tundra do oeste do Alasca, Quebec e outros lugares ao norte está ficando mais verde, enquanto grandes incêndios entre 2004 e 2015 eliminaram milhões de hectares de florestas no Alasca. \n",
    "\n",
    "[Link da matéria](https://super.abril.com.br/ciencia/20-anos-de-mudancas-na-terra-em-um-gif-fascinante-da-nasa/)\n"
   ],
   "cell_type": "markdown",
   "metadata": {}
  },
  {
   "source": [
    "<img src=\"images/mollweide_cycle.gif\" width=\"750\" align=\"center\">"
   ],
   "cell_type": "markdown",
   "metadata": {}
  },
  {
   "source": [
    "Atividades que geram uma determinada quantidade específica de cada gás"
   ],
   "cell_type": "markdown",
   "metadata": {}
  },
  {
   "source": [
    "<img src='images/C0_1-Details-1-Emissions_By_Greenhouse_Gas.png' width=\"750\" align=\"center\">"
   ],
   "cell_type": "markdown",
   "metadata": {}
  },
  {
   "source": [
    "### Mas afinal qual a relação das maiores economias do mundo junto a essa emissão de gases poluentes, e como fica o Brasil nessa história durante os últimos anos, pois bem, e o que vamos analisar no decorrer desta abordagem, venha comigo nesta jornada 🤗🤗🤗"
   ],
   "cell_type": "markdown",
   "metadata": {}
  },
  {
   "source": [
    "<img src='images/emissao-gas-carbonico.jpg' width=\"750\" align=\"center\">"
   ],
   "cell_type": "markdown",
   "metadata": {}
  },
  {
   "source": [
    "Vamos nessa? Let's Go Baby 😎"
   ],
   "cell_type": "markdown",
   "metadata": {}
  },
  {
   "cell_type": "code",
   "execution_count": 17,
   "metadata": {},
   "outputs": [],
   "source": [
    "data = pd.read_csv('archive/emission_data.csv')"
   ]
  },
  {
   "cell_type": "code",
   "execution_count": 15,
   "metadata": {},
   "outputs": [
    {
     "output_type": "execute_result",
     "data": {
      "text/plain": [
       "            Country  1751  1752  1753  1754  1755  1756  1757  1758  1759  \\\n",
       "0       Afghanistan     0     0     0     0     0     0     0     0     0   \n",
       "1            Africa     0     0     0     0     0     0     0     0     0   \n",
       "2           Albania     0     0     0     0     0     0     0     0     0   \n",
       "3           Algeria     0     0     0     0     0     0     0     0     0   \n",
       "4  Americas (other)     0     0     0     0     0     0     0     0     0   \n",
       "\n",
       "   ...          2008          2009          2010          2011          2012  \\\n",
       "0  ...  8.515264e+07  9.191295e+07  1.003652e+08  1.125912e+08  1.233332e+08   \n",
       "1  ...  3.183077e+10  3.301904e+10  3.421283e+10  3.541120e+10  3.664504e+10   \n",
       "2  ...  2.287948e+08  2.331696e+08  2.377643e+08  2.430001e+08  2.479062e+08   \n",
       "3  ...  2.894820e+09  3.015005e+09  3.132819e+09  3.252626e+09  3.380736e+09   \n",
       "4  ...  7.746025e+10  7.961787e+10  8.187178e+10  8.416656e+10  8.654197e+10   \n",
       "\n",
       "           2013          2014          2015          2016          2017  \n",
       "0  1.333337e+08  1.431228e+08  1.532303e+08  1.654882e+08  1.785029e+08  \n",
       "1  3.789569e+10  3.918617e+10  4.047518e+10  4.178583e+10  4.311757e+10  \n",
       "2  2.529662e+08  2.586784e+08  2.646261e+08  2.708990e+08  2.772782e+08  \n",
       "3  3.513171e+09  3.656348e+09  3.806940e+09  3.957319e+09  4.107870e+09  \n",
       "4  8.894874e+10  9.139192e+10  9.382747e+10  9.624253e+10  9.864116e+10  \n",
       "\n",
       "[5 rows x 268 columns]"
      ],
      "text/html": "<div>\n<style scoped>\n    .dataframe tbody tr th:only-of-type {\n        vertical-align: middle;\n    }\n\n    .dataframe tbody tr th {\n        vertical-align: top;\n    }\n\n    .dataframe thead th {\n        text-align: right;\n    }\n</style>\n<table border=\"1\" class=\"dataframe\">\n  <thead>\n    <tr style=\"text-align: right;\">\n      <th></th>\n      <th>Country</th>\n      <th>1751</th>\n      <th>1752</th>\n      <th>1753</th>\n      <th>1754</th>\n      <th>1755</th>\n      <th>1756</th>\n      <th>1757</th>\n      <th>1758</th>\n      <th>1759</th>\n      <th>...</th>\n      <th>2008</th>\n      <th>2009</th>\n      <th>2010</th>\n      <th>2011</th>\n      <th>2012</th>\n      <th>2013</th>\n      <th>2014</th>\n      <th>2015</th>\n      <th>2016</th>\n      <th>2017</th>\n    </tr>\n  </thead>\n  <tbody>\n    <tr>\n      <th>0</th>\n      <td>Afghanistan</td>\n      <td>0</td>\n      <td>0</td>\n      <td>0</td>\n      <td>0</td>\n      <td>0</td>\n      <td>0</td>\n      <td>0</td>\n      <td>0</td>\n      <td>0</td>\n      <td>...</td>\n      <td>8.515264e+07</td>\n      <td>9.191295e+07</td>\n      <td>1.003652e+08</td>\n      <td>1.125912e+08</td>\n      <td>1.233332e+08</td>\n      <td>1.333337e+08</td>\n      <td>1.431228e+08</td>\n      <td>1.532303e+08</td>\n      <td>1.654882e+08</td>\n      <td>1.785029e+08</td>\n    </tr>\n    <tr>\n      <th>1</th>\n      <td>Africa</td>\n      <td>0</td>\n      <td>0</td>\n      <td>0</td>\n      <td>0</td>\n      <td>0</td>\n      <td>0</td>\n      <td>0</td>\n      <td>0</td>\n      <td>0</td>\n      <td>...</td>\n      <td>3.183077e+10</td>\n      <td>3.301904e+10</td>\n      <td>3.421283e+10</td>\n      <td>3.541120e+10</td>\n      <td>3.664504e+10</td>\n      <td>3.789569e+10</td>\n      <td>3.918617e+10</td>\n      <td>4.047518e+10</td>\n      <td>4.178583e+10</td>\n      <td>4.311757e+10</td>\n    </tr>\n    <tr>\n      <th>2</th>\n      <td>Albania</td>\n      <td>0</td>\n      <td>0</td>\n      <td>0</td>\n      <td>0</td>\n      <td>0</td>\n      <td>0</td>\n      <td>0</td>\n      <td>0</td>\n      <td>0</td>\n      <td>...</td>\n      <td>2.287948e+08</td>\n      <td>2.331696e+08</td>\n      <td>2.377643e+08</td>\n      <td>2.430001e+08</td>\n      <td>2.479062e+08</td>\n      <td>2.529662e+08</td>\n      <td>2.586784e+08</td>\n      <td>2.646261e+08</td>\n      <td>2.708990e+08</td>\n      <td>2.772782e+08</td>\n    </tr>\n    <tr>\n      <th>3</th>\n      <td>Algeria</td>\n      <td>0</td>\n      <td>0</td>\n      <td>0</td>\n      <td>0</td>\n      <td>0</td>\n      <td>0</td>\n      <td>0</td>\n      <td>0</td>\n      <td>0</td>\n      <td>...</td>\n      <td>2.894820e+09</td>\n      <td>3.015005e+09</td>\n      <td>3.132819e+09</td>\n      <td>3.252626e+09</td>\n      <td>3.380736e+09</td>\n      <td>3.513171e+09</td>\n      <td>3.656348e+09</td>\n      <td>3.806940e+09</td>\n      <td>3.957319e+09</td>\n      <td>4.107870e+09</td>\n    </tr>\n    <tr>\n      <th>4</th>\n      <td>Americas (other)</td>\n      <td>0</td>\n      <td>0</td>\n      <td>0</td>\n      <td>0</td>\n      <td>0</td>\n      <td>0</td>\n      <td>0</td>\n      <td>0</td>\n      <td>0</td>\n      <td>...</td>\n      <td>7.746025e+10</td>\n      <td>7.961787e+10</td>\n      <td>8.187178e+10</td>\n      <td>8.416656e+10</td>\n      <td>8.654197e+10</td>\n      <td>8.894874e+10</td>\n      <td>9.139192e+10</td>\n      <td>9.382747e+10</td>\n      <td>9.624253e+10</td>\n      <td>9.864116e+10</td>\n    </tr>\n  </tbody>\n</table>\n<p>5 rows × 268 columns</p>\n</div>"
     },
     "metadata": {},
     "execution_count": 15
    }
   ],
   "source": [
    "data.head()"
   ]
  },
  {
   "cell_type": "code",
   "execution_count": 22,
   "metadata": {},
   "outputs": [
    {
     "output_type": "stream",
     "name": "stdout",
     "text": [
      "Quantidade de linhas 231\nQuantidade de colunas 268\n"
     ]
    }
   ],
   "source": [
    "print('Quantidade de linhas', data.shape[0])\n",
    "print('Quantidade de colunas', data.shape[1])"
   ]
  },
  {
   "cell_type": "code",
   "execution_count": 16,
   "metadata": {},
   "outputs": [
    {
     "output_type": "execute_result",
     "data": {
      "text/plain": [
       "Index(['Country', '1751', '1752', '1753', '1754', '1755', '1756', '1757',\n",
       "       '1758', '1759',\n",
       "       ...\n",
       "       '2008', '2009', '2010', '2011', '2012', '2013', '2014', '2015', '2016',\n",
       "       '2017'],\n",
       "      dtype='object', length=268)"
      ]
     },
     "metadata": {},
     "execution_count": 16
    }
   ],
   "source": [
    "data.columns"
   ]
  },
  {
   "source": [
    "Podemos observar que temos dados de 268 países, desde 1751, porem nessa análise vamos olhar para os últimos 20 anos, que e onde se concentra a maior quantidade de emissão"
   ],
   "cell_type": "markdown",
   "metadata": {}
  },
  {
   "cell_type": "code",
   "execution_count": null,
   "metadata": {},
   "outputs": [],
   "source": []
  }
 ]
}