{
 "metadata": {
  "language_info": {
   "codemirror_mode": {
    "name": "ipython",
    "version": 3
   },
   "file_extension": ".py",
   "mimetype": "text/x-python",
   "name": "python",
   "nbconvert_exporter": "python",
   "pygments_lexer": "ipython3",
   "version": "3.8.6"
  },
  "orig_nbformat": 2,
  "kernelspec": {
   "name": "python386jvsc74a57bd0916dbcbb3f70747c44a77c7bcd40155683ae19c65e1c03b4aa3499c5328201f1",
   "display_name": "Python 3.8.6 64-bit"
  },
  "metadata": {
   "interpreter": {
    "hash": "916dbcbb3f70747c44a77c7bcd40155683ae19c65e1c03b4aa3499c5328201f1"
   }
  }
 },
 "nbformat": 4,
 "nbformat_minor": 2,
 "cells": [
  {
   "cell_type": "code",
   "execution_count": 6,
   "metadata": {},
   "outputs": [],
   "source": [
    "import pandas as pd \n",
    "import numpy as np \n",
    "import matplotlib.pyplot as plt \n",
    "%matplotlib inline\n",
    "from IPython.display import IFrame"
   ]
  },
  {
   "source": [
    "## Efeito Estufa"
   ],
   "cell_type": "markdown",
   "metadata": {}
  },
  {
   "source": [
    "### O **efeito estufa** é o processo pelo qual a radiação da atmosfera de um planeta aquece a superfície do planeta a uma temperatura acima do que seria sem esta atmosfera."
   ],
   "cell_type": "markdown",
   "metadata": {}
  },
  {
   "source": [
    "<img src=\"images/CandidSelfreliantAvians.webp\" width=\"750\" align=\"center\">"
   ],
   "cell_type": "markdown",
   "metadata": {}
  },
  {
   "source": [
    "Atividades humanas como a queima de combustíveis fósseis, o emprego de certos fertilizantes, o desmatamento e o grande desperdício contemporâneo de alimentos, que têm entre seus resultados a elevação nos níveis atmosféricos de gases estufa, vêm intensificando de maneira importante o efeito estufa e desestabilizando o equilíbrio energético no planeta, produzindo um fenômeno conhecido como aquecimento global."
   ],
   "cell_type": "markdown",
   "metadata": {}
  },
  {
   "source": [
    "<img src=\"images/DependableCheeryBlacklemur.webp\" width=\"750\" align=\"center\">"
   ],
   "cell_type": "markdown",
   "metadata": {}
  },
  {
   "source": [
    "<img src=\"images/mollweide_cycle.gif\" width=\"750\" align=\"center\">"
   ],
   "cell_type": "markdown",
   "metadata": {}
  },
  {
   "cell_type": "code",
   "execution_count": 2,
   "metadata": {},
   "outputs": [],
   "source": [
    "data = pd.read_csv('archive/emission_data.csv')"
   ]
  }
 ]
}